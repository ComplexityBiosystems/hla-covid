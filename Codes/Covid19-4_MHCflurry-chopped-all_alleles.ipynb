{
 "cells": [
  {
   "cell_type": "code",
   "execution_count": 1,
   "metadata": {},
   "outputs": [],
   "source": [
    "import sys\n",
    "import glob\n",
    "import pandas as pd\n",
    "import matplotlib.pyplot as plt\n",
    "import seaborn as sns\n",
    "import os\n",
    "import numpy as np\n",
    "import epitopepredict as ep\n",
    "from epitopepredict import base, sequtils, analysis, plotting\n",
    "from mhcflurry import Class1AffinityPredictor"
   ]
  },
  {
   "cell_type": "markdown",
   "metadata": {},
   "source": [
    "This codes runs MHCflurry to obtain predictions for SARS-CoV-2 peptides. Results are filtered with netchop and then saved for further analysis"
   ]
  },
  {
   "cell_type": "code",
   "execution_count": 2,
   "metadata": {},
   "outputs": [],
   "source": [
    "#get sequences from fasta file\n",
    "# MN908947 the first Wuhan SARS-COV-2\n",
    "fastafile=\"../SEQUENCES/sequences-Wuhan.fasta\"\n",
    "df = sequtils.fasta_to_dataframe(fastafile)"
   ]
  },
  {
   "cell_type": "code",
   "execution_count": 3,
   "metadata": {},
   "outputs": [],
   "source": [
    "#keep only structural proteins M,N,E,S\n",
    "df4=df.drop([0,1,4,5,7])\n"
   ]
  },
  {
   "cell_type": "code",
   "execution_count": 4,
   "metadata": {},
   "outputs": [],
   "source": [
    "# select predictor\n",
    "p = base.get_predictor('mhcflurry')"
   ]
  },
  {
   "cell_type": "code",
   "execution_count": 5,
   "metadata": {},
   "outputs": [],
   "source": [
    "#select alleles HLA,HLB,HLC\n",
    "predictor = Class1AffinityPredictor.load()\n",
    "alleles=predictor.supported_alleles[8:88]\n"
   ]
  },
  {
   "cell_type": "code",
   "execution_count": 6,
   "metadata": {},
   "outputs": [],
   "source": [
    "alleles.remove('HLA-B*07:01')"
   ]
  },
  {
   "cell_type": "code",
   "execution_count": null,
   "metadata": {},
   "outputs": [],
   "source": [
    "predictor.predict_to_dataframe"
   ]
  },
  {
   "cell_type": "code",
   "execution_count": 19,
   "metadata": {},
   "outputs": [
    {
     "name": "stderr",
     "output_type": "stream",
     "text": [
      "Using TensorFlow backend.\n",
      "WARNING:tensorflow:From /Users/szapperi/opt/miniconda3/lib/python3.7/site-packages/tensorflow_core/python/ops/resource_variable_ops.py:1630: calling BaseResourceVariable.__init__ (from tensorflow.python.ops.resource_variable_ops) with constraint is deprecated and will be removed in a future version.\n",
      "Instructions for updating:\n",
      "If using Keras pass *_constraint arguments to layers.\n",
      "WARNING:tensorflow:From /Users/szapperi/opt/miniconda3/lib/python3.7/site-packages/keras/backend/tensorflow_backend.py:422: The name tf.global_variables is deprecated. Please use tf.compat.v1.global_variables instead.\n",
      "\n"
     ]
    },
    {
     "name": "stdout",
     "output_type": "stream",
     "text": [
      "predictions done for 4 sequences in 79 alleles\n",
      "predictions done for 4 sequences in 79 alleles\n",
      "predictions done for 4 sequences in 79 alleles\n",
      "predictions done for 4 sequences in 79 alleles\n"
     ]
    }
   ],
   "source": [
    "#run predictions for the 4 structural proteins and 3 length\n",
    "lengths=[8,9,10,11]\n",
    "predictions4=[]\n",
    "for ll in lengths:\n",
    "    pred=p.predict_proteins(df4, length=ll, alleles=alleles)\n",
    "    predictions4.append(pred)\n",
    "#set into a dataframe\n",
    "results = pd.concat(predictions4)"
   ]
  },
  {
   "cell_type": "code",
   "execution_count": 7,
   "metadata": {},
   "outputs": [],
   "source": [
    "# load results\n",
    "#results=pd.read_csv(\"../DATA/results4_MHCflurry.csv\")\n"
   ]
  },
  {
   "cell_type": "code",
   "execution_count": 20,
   "metadata": {},
   "outputs": [],
   "source": [
    "# read list from NetChop\n",
    "chop=pd.read_csv(\"../Data/cleavege-Wuhan-4.csv\",sep=';')"
   ]
  },
  {
   "cell_type": "code",
   "execution_count": 21,
   "metadata": {},
   "outputs": [],
   "source": [
    "# Create filter\n",
    "filter=chop[chop[\"C\"]==\"S\"]\n",
    "filter=filter[[\"pos\",\"Ident\"]]\n",
    "filter_key=filter[[\"pos\",\"Ident\"]].apply(tuple, axis=1)\n"
   ]
  },
  {
   "cell_type": "code",
   "execution_count": 22,
   "metadata": {},
   "outputs": [],
   "source": [
    "idx = results[[\"pos\",\"name\"]].apply(lambda x: tuple(x) in list(filter_key.values), axis=1)"
   ]
  },
  {
   "cell_type": "code",
   "execution_count": 23,
   "metadata": {},
   "outputs": [],
   "source": [
    "results_filter=results[idx].copy()"
   ]
  },
  {
   "cell_type": "code",
   "execution_count": 24,
   "metadata": {},
   "outputs": [
    {
     "name": "stderr",
     "output_type": "stream",
     "text": [
      "/Users/szapperi/opt/miniconda3/lib/python3.7/site-packages/ipykernel_launcher.py:2: SettingWithCopyWarning: \n",
      "A value is trying to be set on a copy of a slice from a DataFrame.\n",
      "Try using .loc[row_indexer,col_indexer] = value instead\n",
      "\n",
      "See the caveats in the documentation: http://pandas.pydata.org/pandas-docs/stable/user_guide/indexing.html#returning-a-view-versus-a-copy\n",
      "  \n"
     ]
    }
   ],
   "source": [
    "# compute global attachment\n",
    "results_filter[\"K_tot\"]=1./results_filter[\"prediction\"]"
   ]
  },
  {
   "cell_type": "code",
   "execution_count": 25,
   "metadata": {},
   "outputs": [],
   "source": [
    "results_filter.to_csv(\"df_netMHCflurry_allHLA.csv\")"
   ]
  },
  {
   "cell_type": "code",
   "execution_count": null,
   "metadata": {},
   "outputs": [],
   "source": []
  }
 ],
 "metadata": {
  "kernelspec": {
   "display_name": "Python 3",
   "language": "python",
   "name": "python3"
  },
  "language_info": {
   "codemirror_mode": {
    "name": "ipython",
    "version": 3
   },
   "file_extension": ".py",
   "mimetype": "text/x-python",
   "name": "python",
   "nbconvert_exporter": "python",
   "pygments_lexer": "ipython3",
   "version": "3.7.4"
  }
 },
 "nbformat": 4,
 "nbformat_minor": 4
}
